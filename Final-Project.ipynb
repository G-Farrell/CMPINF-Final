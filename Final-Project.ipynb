{
 "cells": [
  {
   "cell_type": "code",
   "execution_count": 56,
   "id": "a930d22b-ef15-4d06-a6de-319b43c3c363",
   "metadata": {},
   "outputs": [
    {
     "data": {
      "text/html": [
       "<div>\n",
       "<style scoped>\n",
       "    .dataframe tbody tr th:only-of-type {\n",
       "        vertical-align: middle;\n",
       "    }\n",
       "\n",
       "    .dataframe tbody tr th {\n",
       "        vertical-align: top;\n",
       "    }\n",
       "\n",
       "    .dataframe thead th {\n",
       "        text-align: right;\n",
       "    }\n",
       "</style>\n",
       "<table border=\"1\" class=\"dataframe\">\n",
       "  <thead>\n",
       "    <tr style=\"text-align: right;\">\n",
       "      <th></th>\n",
       "      <th>_id</th>\n",
       "      <th>date</th>\n",
       "      <th>site</th>\n",
       "      <th>parameter</th>\n",
       "      <th>index_value</th>\n",
       "      <th>description</th>\n",
       "      <th>health_advisory</th>\n",
       "      <th>health_effects</th>\n",
       "    </tr>\n",
       "  </thead>\n",
       "  <tbody>\n",
       "    <tr>\n",
       "      <th>0</th>\n",
       "      <td>75571</td>\n",
       "      <td>1/1/2024</td>\n",
       "      <td>Pittsburgh</td>\n",
       "      <td>NO2_500</td>\n",
       "      <td>9</td>\n",
       "      <td>Good</td>\n",
       "      <td>NaN</td>\n",
       "      <td>NaN</td>\n",
       "    </tr>\n",
       "    <tr>\n",
       "      <th>1</th>\n",
       "      <td>75572</td>\n",
       "      <td>1/1/2024</td>\n",
       "      <td>Pittsburgh</td>\n",
       "      <td>PM10_640</td>\n",
       "      <td>10</td>\n",
       "      <td>Good</td>\n",
       "      <td>NaN</td>\n",
       "      <td>NaN</td>\n",
       "    </tr>\n",
       "    <tr>\n",
       "      <th>2</th>\n",
       "      <td>75573</td>\n",
       "      <td>1/1/2024</td>\n",
       "      <td>North Braddock</td>\n",
       "      <td>PM25_640</td>\n",
       "      <td>19</td>\n",
       "      <td>Good</td>\n",
       "      <td>NaN</td>\n",
       "      <td>NaN</td>\n",
       "    </tr>\n",
       "    <tr>\n",
       "      <th>3</th>\n",
       "      <td>75574</td>\n",
       "      <td>1/1/2024</td>\n",
       "      <td>Parkway East</td>\n",
       "      <td>PM25_640</td>\n",
       "      <td>20</td>\n",
       "      <td>Good</td>\n",
       "      <td>NaN</td>\n",
       "      <td>NaN</td>\n",
       "    </tr>\n",
       "    <tr>\n",
       "      <th>4</th>\n",
       "      <td>75575</td>\n",
       "      <td>1/1/2024</td>\n",
       "      <td>Lawrenceville 2</td>\n",
       "      <td>SO2</td>\n",
       "      <td>0</td>\n",
       "      <td>Good</td>\n",
       "      <td>NaN</td>\n",
       "      <td>NaN</td>\n",
       "    </tr>\n",
       "  </tbody>\n",
       "</table>\n",
       "</div>"
      ],
      "text/plain": [
       "     _id      date             site parameter  index_value description  \\\n",
       "0  75571  1/1/2024       Pittsburgh   NO2_500            9        Good   \n",
       "1  75572  1/1/2024       Pittsburgh  PM10_640           10        Good   \n",
       "2  75573  1/1/2024   North Braddock  PM25_640           19        Good   \n",
       "3  75574  1/1/2024     Parkway East  PM25_640           20        Good   \n",
       "4  75575  1/1/2024  Lawrenceville 2       SO2            0        Good   \n",
       "\n",
       "  health_advisory health_effects  \n",
       "0             NaN            NaN  \n",
       "1             NaN            NaN  \n",
       "2             NaN            NaN  \n",
       "3             NaN            NaN  \n",
       "4             NaN            NaN  "
      ]
     },
     "execution_count": 56,
     "metadata": {},
     "output_type": "execute_result"
    }
   ],
   "source": [
    "import pandas as pd\n",
    "import numpy as np\n",
    "import geopandas\n",
    "%matplotlib inline\n",
    "import matplotlib.pyplot as plt\n",
    "\n",
    "df = pd.read_csv(\"Air-Quality.csv\")\n",
    "df.head()"
   ]
  },
  {
   "cell_type": "code",
   "execution_count": 58,
   "id": "1c77f662-e08d-48a9-b3ff-8e17bcd23bdf",
   "metadata": {},
   "outputs": [
    {
     "name": "stdout",
     "output_type": "stream",
     "text": [
      "['Good' 'Moderate' 'Unhealthy for Sensitive Groups']\n"
     ]
    }
   ],
   "source": [
    "print((df[\"description\"]).unique())"
   ]
  },
  {
   "cell_type": "code",
   "execution_count": 60,
   "id": "17999d99-6c06-42d6-9f3a-af8d752c742f",
   "metadata": {},
   "outputs": [
    {
     "data": {
      "text/html": [
       "<div>\n",
       "<style scoped>\n",
       "    .dataframe tbody tr th:only-of-type {\n",
       "        vertical-align: middle;\n",
       "    }\n",
       "\n",
       "    .dataframe tbody tr th {\n",
       "        vertical-align: top;\n",
       "    }\n",
       "\n",
       "    .dataframe thead th {\n",
       "        text-align: right;\n",
       "    }\n",
       "</style>\n",
       "<table border=\"1\" class=\"dataframe\">\n",
       "  <thead>\n",
       "    <tr style=\"text-align: right;\">\n",
       "      <th></th>\n",
       "      <th>_id</th>\n",
       "      <th>date</th>\n",
       "      <th>site</th>\n",
       "      <th>parameter</th>\n",
       "      <th>index_value</th>\n",
       "      <th>description</th>\n",
       "      <th>health_advisory</th>\n",
       "      <th>health_effects</th>\n",
       "    </tr>\n",
       "  </thead>\n",
       "  <tbody>\n",
       "    <tr>\n",
       "      <th>131</th>\n",
       "      <td>75724</td>\n",
       "      <td>1/6/2024</td>\n",
       "      <td>Pittsburgh</td>\n",
       "      <td>PM25_640</td>\n",
       "      <td>55</td>\n",
       "      <td>Moderate</td>\n",
       "      <td>Unusually sensitive people should consider red...</td>\n",
       "      <td>Respiratory symptoms possible in unusually sen...</td>\n",
       "    </tr>\n",
       "    <tr>\n",
       "      <th>159</th>\n",
       "      <td>75763</td>\n",
       "      <td>1/8/2024</td>\n",
       "      <td>North Braddock</td>\n",
       "      <td>PM25_640</td>\n",
       "      <td>57</td>\n",
       "      <td>Moderate</td>\n",
       "      <td>Unusually sensitive people should consider red...</td>\n",
       "      <td>Respiratory symptoms possible in unusually sen...</td>\n",
       "    </tr>\n",
       "    <tr>\n",
       "      <th>160</th>\n",
       "      <td>75764</td>\n",
       "      <td>1/8/2024</td>\n",
       "      <td>Parkway East</td>\n",
       "      <td>PM25_640</td>\n",
       "      <td>55</td>\n",
       "      <td>Moderate</td>\n",
       "      <td>Unusually sensitive people should consider red...</td>\n",
       "      <td>Respiratory symptoms possible in unusually sen...</td>\n",
       "    </tr>\n",
       "    <tr>\n",
       "      <th>171</th>\n",
       "      <td>75775</td>\n",
       "      <td>1/8/2024</td>\n",
       "      <td>Avalon</td>\n",
       "      <td>PM25_640</td>\n",
       "      <td>59</td>\n",
       "      <td>Moderate</td>\n",
       "      <td>Unusually sensitive people should consider red...</td>\n",
       "      <td>Respiratory symptoms possible in unusually sen...</td>\n",
       "    </tr>\n",
       "    <tr>\n",
       "      <th>172</th>\n",
       "      <td>75776</td>\n",
       "      <td>1/8/2024</td>\n",
       "      <td>Liberty</td>\n",
       "      <td>PM25_640</td>\n",
       "      <td>56</td>\n",
       "      <td>Moderate</td>\n",
       "      <td>Unusually sensitive people should consider red...</td>\n",
       "      <td>Respiratory symptoms possible in unusually sen...</td>\n",
       "    </tr>\n",
       "  </tbody>\n",
       "</table>\n",
       "</div>"
      ],
      "text/plain": [
       "       _id      date            site parameter  index_value description  \\\n",
       "131  75724  1/6/2024      Pittsburgh  PM25_640           55    Moderate   \n",
       "159  75763  1/8/2024  North Braddock  PM25_640           57    Moderate   \n",
       "160  75764  1/8/2024    Parkway East  PM25_640           55    Moderate   \n",
       "171  75775  1/8/2024          Avalon  PM25_640           59    Moderate   \n",
       "172  75776  1/8/2024         Liberty  PM25_640           56    Moderate   \n",
       "\n",
       "                                       health_advisory  \\\n",
       "131  Unusually sensitive people should consider red...   \n",
       "159  Unusually sensitive people should consider red...   \n",
       "160  Unusually sensitive people should consider red...   \n",
       "171  Unusually sensitive people should consider red...   \n",
       "172  Unusually sensitive people should consider red...   \n",
       "\n",
       "                                        health_effects  \n",
       "131  Respiratory symptoms possible in unusually sen...  \n",
       "159  Respiratory symptoms possible in unusually sen...  \n",
       "160  Respiratory symptoms possible in unusually sen...  \n",
       "171  Respiratory symptoms possible in unusually sen...  \n",
       "172  Respiratory symptoms possible in unusually sen...  "
      ]
     },
     "execution_count": 60,
     "metadata": {},
     "output_type": "execute_result"
    }
   ],
   "source": [
    "df2 = df[(df['description'] == 'Moderate') | (df['description'] == 'Unhealthy for Sensitive Groups')]\n",
    "df2.head()"
   ]
  },
  {
   "cell_type": "code",
   "execution_count": 62,
   "id": "a21eac27-7474-4ecd-9629-8165a83e033d",
   "metadata": {},
   "outputs": [
    {
     "data": {
      "text/html": [
       "<div>\n",
       "<style scoped>\n",
       "    .dataframe tbody tr th:only-of-type {\n",
       "        vertical-align: middle;\n",
       "    }\n",
       "\n",
       "    .dataframe tbody tr th {\n",
       "        vertical-align: top;\n",
       "    }\n",
       "\n",
       "    .dataframe thead th {\n",
       "        text-align: right;\n",
       "    }\n",
       "</style>\n",
       "<table border=\"1\" class=\"dataframe\">\n",
       "  <thead>\n",
       "    <tr style=\"text-align: right;\">\n",
       "      <th></th>\n",
       "      <th>site</th>\n",
       "      <th>description</th>\n",
       "    </tr>\n",
       "  </thead>\n",
       "  <tbody>\n",
       "    <tr>\n",
       "      <th>131</th>\n",
       "      <td>Pittsburgh</td>\n",
       "      <td>Moderate</td>\n",
       "    </tr>\n",
       "    <tr>\n",
       "      <th>159</th>\n",
       "      <td>North Braddock</td>\n",
       "      <td>Moderate</td>\n",
       "    </tr>\n",
       "    <tr>\n",
       "      <th>160</th>\n",
       "      <td>Parkway East</td>\n",
       "      <td>Moderate</td>\n",
       "    </tr>\n",
       "    <tr>\n",
       "      <th>171</th>\n",
       "      <td>Avalon</td>\n",
       "      <td>Moderate</td>\n",
       "    </tr>\n",
       "    <tr>\n",
       "      <th>172</th>\n",
       "      <td>Liberty</td>\n",
       "      <td>Moderate</td>\n",
       "    </tr>\n",
       "  </tbody>\n",
       "</table>\n",
       "</div>"
      ],
      "text/plain": [
       "               site description\n",
       "131      Pittsburgh    Moderate\n",
       "159  North Braddock    Moderate\n",
       "160    Parkway East    Moderate\n",
       "171          Avalon    Moderate\n",
       "172         Liberty    Moderate"
      ]
     },
     "execution_count": 62,
     "metadata": {},
     "output_type": "execute_result"
    }
   ],
   "source": [
    "new_df = df2[['site', 'description']]\n",
    "new_df.head()"
   ]
  },
  {
   "cell_type": "code",
   "execution_count": 64,
   "id": "4aded622-6a1a-45b2-8430-ce6ba6ce21c4",
   "metadata": {},
   "outputs": [
    {
     "data": {
      "text/plain": [
       "<Axes: xlabel='site'>"
      ]
     },
     "execution_count": 64,
     "metadata": {},
     "output_type": "execute_result"
    },
    {
     "data": {
      "image/png": "[encoded data removed]",
      "text/plain": [
       "<Figure size 640x480 with 1 Axes>"
      ]
     },
     "metadata": {},
     "output_type": "display_data"
    }
   ],
   "source": [
    "counts = new_df.groupby(['site', 'description']).size().unstack(fill_value=0)\n",
    "counts.plot(kind='bar', stacked = True)"
   ]
  },
  {
   "cell_type": "code",
   "execution_count": null,
   "id": "ff647363-ae39-4dfc-9057-d6dd65bf17ee",
   "metadata": {},
   "outputs": [],
   "source": []
  }
 ],
 "metadata": {
  "kernelspec": {
   "display_name": "Python 3 (ipykernel)",
   "language": "python",
   "name": "python3"
  },
  "language_info": {
   "codemirror_mode": {
    "name": "ipython",
    "version": 3
   },
   "file_extension": ".py",
   "mimetype": "text/x-python",
   "name": "python",
   "nbconvert_exporter": "python",
   "pygments_lexer": "ipython3",
   "version": "3.12.4"
  }
 },
 "nbformat": 4,
 "nbformat_minor": 5
}
